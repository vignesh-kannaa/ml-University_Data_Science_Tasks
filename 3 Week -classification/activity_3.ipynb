{
 "cells": [
  {
   "cell_type": "markdown",
   "metadata": {},
   "source": [
    "### Linear Classification Models: Task 1\n",
    "##### Adapted by Dr. Harry Goldingay from solution by Miss Katrina Jones and Dr. Aniko Ekart (ML Module, 2021)"
   ]
  },
  {
   "cell_type": "code",
   "execution_count": 1,
   "metadata": {},
   "outputs": [],
   "source": [
    "# Import general modules\n",
    "import pandas as pd # For reading the csv\n",
    "from sklearn.linear_model import Perceptron # Our chosen model\n",
    "from sklearn.metrics import confusion_matrix # For creation of the confusion matrix\n",
    "from sklearn.metrics import classification_report # For creation of precision, recall and f1-measures\n",
    "from sklearn.metrics import accuracy_score # For help in comparing data given using accuracy score vs confusion matrix\n",
    "import matplotlib.pyplot as plt"
   ]
  },
  {
   "cell_type": "markdown",
   "metadata": {},
   "source": [
    "_Setting up and reading the database from the csv file._"
   ]
  },
  {
   "cell_type": "code",
   "execution_count": 2,
   "metadata": {},
   "outputs": [
    {
     "data": {
      "text/html": [
       "<div>\n",
       "<style scoped>\n",
       "    .dataframe tbody tr th:only-of-type {\n",
       "        vertical-align: middle;\n",
       "    }\n",
       "\n",
       "    .dataframe tbody tr th {\n",
       "        vertical-align: top;\n",
       "    }\n",
       "\n",
       "    .dataframe thead th {\n",
       "        text-align: right;\n",
       "    }\n",
       "</style>\n",
       "<table border=\"1\" class=\"dataframe\">\n",
       "  <thead>\n",
       "    <tr style=\"text-align: right;\">\n",
       "      <th></th>\n",
       "      <th>0</th>\n",
       "      <th>1</th>\n",
       "      <th>2</th>\n",
       "      <th>3</th>\n",
       "    </tr>\n",
       "  </thead>\n",
       "  <tbody>\n",
       "    <tr>\n",
       "      <th>0</th>\n",
       "      <td>30</td>\n",
       "      <td>64</td>\n",
       "      <td>1</td>\n",
       "      <td>1</td>\n",
       "    </tr>\n",
       "    <tr>\n",
       "      <th>1</th>\n",
       "      <td>30</td>\n",
       "      <td>62</td>\n",
       "      <td>3</td>\n",
       "      <td>1</td>\n",
       "    </tr>\n",
       "    <tr>\n",
       "      <th>2</th>\n",
       "      <td>30</td>\n",
       "      <td>65</td>\n",
       "      <td>0</td>\n",
       "      <td>1</td>\n",
       "    </tr>\n",
       "    <tr>\n",
       "      <th>3</th>\n",
       "      <td>31</td>\n",
       "      <td>59</td>\n",
       "      <td>2</td>\n",
       "      <td>1</td>\n",
       "    </tr>\n",
       "    <tr>\n",
       "      <th>4</th>\n",
       "      <td>31</td>\n",
       "      <td>65</td>\n",
       "      <td>4</td>\n",
       "      <td>1</td>\n",
       "    </tr>\n",
       "  </tbody>\n",
       "</table>\n",
       "</div>"
      ],
      "text/plain": [
       "    0   1  2  3\n",
       "0  30  64  1  1\n",
       "1  30  62  3  1\n",
       "2  30  65  0  1\n",
       "3  31  59  2  1\n",
       "4  31  65  4  1"
      ]
     },
     "execution_count": 2,
     "metadata": {},
     "output_type": "execute_result"
    }
   ],
   "source": [
    "#Use header=None to avoid the first row being used as column headers\n",
    "df = pd.read_csv(\"haberman.csv\",header=None)\n",
    "df.head()"
   ]
  },
  {
   "cell_type": "markdown",
   "metadata": {},
   "source": [
    "_We can add textual column headers for readability_"
   ]
  },
  {
   "cell_type": "code",
   "execution_count": 3,
   "metadata": {},
   "outputs": [
    {
     "data": {
      "text/html": [
       "<div>\n",
       "<style scoped>\n",
       "    .dataframe tbody tr th:only-of-type {\n",
       "        vertical-align: middle;\n",
       "    }\n",
       "\n",
       "    .dataframe tbody tr th {\n",
       "        vertical-align: top;\n",
       "    }\n",
       "\n",
       "    .dataframe thead th {\n",
       "        text-align: right;\n",
       "    }\n",
       "</style>\n",
       "<table border=\"1\" class=\"dataframe\">\n",
       "  <thead>\n",
       "    <tr style=\"text-align: right;\">\n",
       "      <th></th>\n",
       "      <th>age</th>\n",
       "      <th>operationYear</th>\n",
       "      <th>positiveAuxNodes</th>\n",
       "      <th>survivalStatus</th>\n",
       "    </tr>\n",
       "  </thead>\n",
       "  <tbody>\n",
       "    <tr>\n",
       "      <th>0</th>\n",
       "      <td>30</td>\n",
       "      <td>64</td>\n",
       "      <td>1</td>\n",
       "      <td>1</td>\n",
       "    </tr>\n",
       "    <tr>\n",
       "      <th>1</th>\n",
       "      <td>30</td>\n",
       "      <td>62</td>\n",
       "      <td>3</td>\n",
       "      <td>1</td>\n",
       "    </tr>\n",
       "    <tr>\n",
       "      <th>2</th>\n",
       "      <td>30</td>\n",
       "      <td>65</td>\n",
       "      <td>0</td>\n",
       "      <td>1</td>\n",
       "    </tr>\n",
       "    <tr>\n",
       "      <th>3</th>\n",
       "      <td>31</td>\n",
       "      <td>59</td>\n",
       "      <td>2</td>\n",
       "      <td>1</td>\n",
       "    </tr>\n",
       "    <tr>\n",
       "      <th>4</th>\n",
       "      <td>31</td>\n",
       "      <td>65</td>\n",
       "      <td>4</td>\n",
       "      <td>1</td>\n",
       "    </tr>\n",
       "  </tbody>\n",
       "</table>\n",
       "</div>"
      ],
      "text/plain": [
       "   age  operationYear  positiveAuxNodes  survivalStatus\n",
       "0   30             64                 1               1\n",
       "1   30             62                 3               1\n",
       "2   30             65                 0               1\n",
       "3   31             59                 2               1\n",
       "4   31             65                 4               1"
      ]
     },
     "execution_count": 3,
     "metadata": {},
     "output_type": "execute_result"
    }
   ],
   "source": [
    "df.columns = ['age','operationYear','positiveAuxNodes','survivalStatus']\n",
    "df.head()"
   ]
  },
  {
   "cell_type": "code",
   "execution_count": 4,
   "metadata": {},
   "outputs": [
    {
     "data": {
      "text/html": [
       "<div>\n",
       "<style scoped>\n",
       "    .dataframe tbody tr th:only-of-type {\n",
       "        vertical-align: middle;\n",
       "    }\n",
       "\n",
       "    .dataframe tbody tr th {\n",
       "        vertical-align: top;\n",
       "    }\n",
       "\n",
       "    .dataframe thead th {\n",
       "        text-align: right;\n",
       "    }\n",
       "</style>\n",
       "<table border=\"1\" class=\"dataframe\">\n",
       "  <thead>\n",
       "    <tr style=\"text-align: right;\">\n",
       "      <th></th>\n",
       "      <th>age</th>\n",
       "      <th>operationYear</th>\n",
       "      <th>positiveAuxNodes</th>\n",
       "      <th>survivalStatus</th>\n",
       "    </tr>\n",
       "  </thead>\n",
       "  <tbody>\n",
       "    <tr>\n",
       "      <th>count</th>\n",
       "      <td>306.000000</td>\n",
       "      <td>306.000000</td>\n",
       "      <td>306.000000</td>\n",
       "      <td>306.000000</td>\n",
       "    </tr>\n",
       "    <tr>\n",
       "      <th>mean</th>\n",
       "      <td>52.457516</td>\n",
       "      <td>62.852941</td>\n",
       "      <td>4.026144</td>\n",
       "      <td>1.264706</td>\n",
       "    </tr>\n",
       "    <tr>\n",
       "      <th>std</th>\n",
       "      <td>10.803452</td>\n",
       "      <td>3.249405</td>\n",
       "      <td>7.189654</td>\n",
       "      <td>0.441899</td>\n",
       "    </tr>\n",
       "    <tr>\n",
       "      <th>min</th>\n",
       "      <td>30.000000</td>\n",
       "      <td>58.000000</td>\n",
       "      <td>0.000000</td>\n",
       "      <td>1.000000</td>\n",
       "    </tr>\n",
       "    <tr>\n",
       "      <th>25%</th>\n",
       "      <td>44.000000</td>\n",
       "      <td>60.000000</td>\n",
       "      <td>0.000000</td>\n",
       "      <td>1.000000</td>\n",
       "    </tr>\n",
       "    <tr>\n",
       "      <th>50%</th>\n",
       "      <td>52.000000</td>\n",
       "      <td>63.000000</td>\n",
       "      <td>1.000000</td>\n",
       "      <td>1.000000</td>\n",
       "    </tr>\n",
       "    <tr>\n",
       "      <th>75%</th>\n",
       "      <td>60.750000</td>\n",
       "      <td>65.750000</td>\n",
       "      <td>4.000000</td>\n",
       "      <td>2.000000</td>\n",
       "    </tr>\n",
       "    <tr>\n",
       "      <th>max</th>\n",
       "      <td>83.000000</td>\n",
       "      <td>69.000000</td>\n",
       "      <td>52.000000</td>\n",
       "      <td>2.000000</td>\n",
       "    </tr>\n",
       "  </tbody>\n",
       "</table>\n",
       "</div>"
      ],
      "text/plain": [
       "              age  operationYear  positiveAuxNodes  survivalStatus\n",
       "count  306.000000     306.000000        306.000000      306.000000\n",
       "mean    52.457516      62.852941          4.026144        1.264706\n",
       "std     10.803452       3.249405          7.189654        0.441899\n",
       "min     30.000000      58.000000          0.000000        1.000000\n",
       "25%     44.000000      60.000000          0.000000        1.000000\n",
       "50%     52.000000      63.000000          1.000000        1.000000\n",
       "75%     60.750000      65.750000          4.000000        2.000000\n",
       "max     83.000000      69.000000         52.000000        2.000000"
      ]
     },
     "execution_count": 4,
     "metadata": {},
     "output_type": "execute_result"
    }
   ],
   "source": [
    "df.describe() # Useful in this context due to us having so much data - we can see the range of the values in each columns..."
   ]
  },
  {
   "cell_type": "markdown",
   "metadata": {},
   "source": [
    "#### Pre-Processing the Data: Grouping the data using the Year of Operation for the train-test split criteria\n",
    "_We were asked to split the data so that there were 229 rows for the train set using the years 1958-1965, and 77 rows for the test data, using the years 1966-1969._"
   ]
  },
  {
   "cell_type": "code",
   "execution_count": 5,
   "metadata": {},
   "outputs": [
    {
     "data": {
      "text/plain": [
       "(229, 4)"
      ]
     },
     "execution_count": 5,
     "metadata": {},
     "output_type": "execute_result"
    }
   ],
   "source": [
    "# Let's get the train set - so the data that resides between 1958-1965 (229 rows)\n",
    "df_train = df.loc[(df['operationYear'] <= 65) & (df['operationYear'] >= 58)] # I chose to use split using boolean_indexing, but Pandas groupby is a good alternative\n",
    "df_train.shape"
   ]
  },
  {
   "cell_type": "code",
   "execution_count": 6,
   "metadata": {},
   "outputs": [
    {
     "data": {
      "text/plain": [
       "(77, 4)"
      ]
     },
     "execution_count": 6,
     "metadata": {},
     "output_type": "execute_result"
    }
   ],
   "source": [
    "# Let's get the test set - so the data that resides above 1965 (77 rows)\n",
    "df_test = df.loc[(df['operationYear'] <= 69) & (df['operationYear'] >= 66)] # I chose to use split using boolean_indexing, but Pandas groupby is a good alternative\n",
    "df_test.shape"
   ]
  },
  {
   "cell_type": "markdown",
   "metadata": {},
   "source": [
    "#### Creating the Train and Test datasets\n",
    "_Divide the dataset into training and testing sets, by using the data for years. 1958-1965 (229 instances) for training and 1966-1969 (77 instances) for testing. Now that we have split the data in such a way, we can do this simply:_"
   ]
  },
  {
   "cell_type": "code",
   "execution_count": 7,
   "metadata": {},
   "outputs": [],
   "source": [
    "# Our train set...\n",
    "# We will extract the independent (X) and dependent (y) variables with iloc as we have seen previously.\n",
    "X_train = df_train.iloc[:,0:3]\n",
    "y_train = df_train.iloc[:,3]\n",
    "\n",
    "# Our test set...\n",
    "# We will extract the independent and dependent variables by header name here, just to see how it is\n",
    "# done. You should pick one method and stick to it!\n",
    "X_test = df_test[['age','operationYear','positiveAuxNodes']]\n",
    "y_test = df_test['survivalStatus']"
   ]
  },
  {
   "cell_type": "markdown",
   "metadata": {},
   "source": [
    "#### Setting up the Perceptron \n",
    "_Apply a single perceptron using sklearn.linear_model.Perceptron._"
   ]
  },
  {
   "cell_type": "code",
   "execution_count": 8,
   "metadata": {},
   "outputs": [],
   "source": [
    "p = Perceptron() # Instantiate the model we are using...\n",
    "model = p.fit(X_train, y_train) #..train it on the data...\n",
    "y_pred = model.predict(X_test) #...and then use it to make predictions."
   ]
  },
  {
   "cell_type": "markdown",
   "metadata": {},
   "source": [
    "#### Create a Confusion Matrix\n",
    "_Use sklearn.metrics.confusion_matrix to obtain the confusion matrix of your classifier._"
   ]
  },
  {
   "cell_type": "code",
   "execution_count": 9,
   "metadata": {},
   "outputs": [
    {
     "name": "stdout",
     "output_type": "stream",
     "text": [
      "[[56  4]\n",
      " [13  4]]\n"
     ]
    }
   ],
   "source": [
    "print(confusion_matrix(y_test, y_pred))"
   ]
  },
  {
   "cell_type": "markdown",
   "metadata": {},
   "source": [
    "_The output of confusion_matrix can be confusing to interpret!_  \n",
    "_You can use ConfusionMatrixDisplay if you need a reminder of what the rows/columns represent._"
   ]
  },
  {
   "cell_type": "code",
   "execution_count": 10,
   "metadata": {},
   "outputs": [
    {
     "data": {
      "text/plain": [
       "<sklearn.metrics._plot.confusion_matrix.ConfusionMatrixDisplay at 0x20200ad99d0>"
      ]
     },
     "execution_count": 10,
     "metadata": {},
     "output_type": "execute_result"
    },
    {
     "data": {
      "image/png": "[encoded data removed]",
      "text/plain": [
       "<Figure size 432x288 with 2 Axes>"
      ]
     },
     "metadata": {
      "needs_background": "light"
     },
     "output_type": "display_data"
    }
   ],
   "source": [
    "from sklearn.metrics import ConfusionMatrixDisplay\n",
    "cm = confusion_matrix(y_test, y_pred)\n",
    "ConfusionMatrixDisplay(confusion_matrix = cm,display_labels=p.classes_).plot()"
   ]
  },
  {
   "cell_type": "markdown",
   "metadata": {},
   "source": [
    "#### Create a Classification Report\n",
    "\n",
    "_Use sklearn.metrics.classification_report to print out a report on precision, recall, f1-measure for both training and test data._"
   ]
  },
  {
   "cell_type": "code",
   "execution_count": 11,
   "metadata": {},
   "outputs": [
    {
     "name": "stdout",
     "output_type": "stream",
     "text": [
      "              precision    recall  f1-score   support\n",
      "\n",
      "           1       0.81      0.93      0.87        60\n",
      "           2       0.50      0.24      0.32        17\n",
      "\n",
      "    accuracy                           0.78        77\n",
      "   macro avg       0.66      0.58      0.59        77\n",
      "weighted avg       0.74      0.78      0.75        77\n",
      "\n"
     ]
    }
   ],
   "source": [
    "print(classification_report(y_test, y_pred))"
   ]
  },
  {
   "cell_type": "markdown",
   "metadata": {},
   "source": [
    "_We have been asked to run some experiments. Let's write some helper functions to make our lives easier!_"
   ]
  },
  {
   "cell_type": "code",
   "execution_count": 12,
   "metadata": {},
   "outputs": [],
   "source": [
    "from sklearn.preprocessing import StandardScaler\n",
    "from sklearn.metrics import accuracy_score\n",
    "from sklearn.metrics import f1_score\n",
    "\n",
    "# We are creating two helper functions, both of which will need to predict class labels.\n",
    "# Factor the code into one function rather than duplicating it.\n",
    "def predict_class_labels(classifier,X_train,y_train,X_test):\n",
    "    scaler = StandardScaler()\n",
    "    scaler.fit(X_train)\n",
    "    X_train_scaled = scaler.transform(X_train)\n",
    "    X_test_scaled = scaler.transform(X_test)\n",
    "    \n",
    "    model = classifier.fit(X_train_scaled, y_train)\n",
    "    y_pred = model.predict(X_test_scaled)\n",
    "    \n",
    "    #print(classifier.coef_)\n",
    "    \n",
    "    return y_pred\n",
    "\n",
    "#This function will display the full results (confusion matrix, classification report)\n",
    "def display_model_results_full(title,classifier,X_train,y_train,X_test,y_test):\n",
    "    print(title + '. Full results')\n",
    "\n",
    "    y_pred = predict_class_labels(classifier,X_train,y_train,X_test)\n",
    "    \n",
    "    cm = confusion_matrix(y_test, y_pred)\n",
    "    ConfusionMatrixDisplay(confusion_matrix = cm,display_labels=classifier.classes_).plot()\n",
    "    plt.show() # Add to print the confusion matrix before the next line\n",
    "    \n",
    "    print(classification_report(y_test, y_pred))\n",
    "    print('\\n')\n",
    "\n",
    "#This function will display selected scores (f1-score macro average, accuracy)\n",
    "def display_model_results_brief(title,classifier,X_train,y_train,X_test,y_test):\n",
    "    print(title + '. Brief results')\n",
    "    \n",
    "    y_pred = predict_class_labels(classifier,X_train,y_train,X_test)\n",
    "    \n",
    "    print('f1 score: {}'.format(f1_score(y_test,y_pred,average='macro')))\n",
    "    print('accuracy: {}'.format(accuracy_score(y_test,y_pred)))\n",
    "    print('\\n')"
   ]
  },
  {
   "cell_type": "code",
   "execution_count": 13,
   "metadata": {},
   "outputs": [
    {
     "name": "stdout",
     "output_type": "stream",
     "text": [
      "Default perceptron. Full results\n"
     ]
    },
    {
     "data": {
      "image/png": "[encoded data removed]",
      "text/plain": [
       "<Figure size 432x288 with 2 Axes>"
      ]
     },
     "metadata": {
      "needs_background": "light"
     },
     "output_type": "display_data"
    },
    {
     "name": "stdout",
     "output_type": "stream",
     "text": [
      "              precision    recall  f1-score   support\n",
      "\n",
      "           1       0.83      0.83      0.83        60\n",
      "           2       0.41      0.41      0.41        17\n",
      "\n",
      "    accuracy                           0.74        77\n",
      "   macro avg       0.62      0.62      0.62        77\n",
      "weighted avg       0.74      0.74      0.74        77\n",
      "\n",
      "\n",
      "\n",
      "Default perceptron: tested on training data. Full results\n"
     ]
    },
    {
     "data": {
      "image/png": "[encoded data removed]",
      "text/plain": [
       "<Figure size 432x288 with 2 Axes>"
      ]
     },
     "metadata": {
      "needs_background": "light"
     },
     "output_type": "display_data"
    },
    {
     "name": "stdout",
     "output_type": "stream",
     "text": [
      "              precision    recall  f1-score   support\n",
      "\n",
      "           1       0.87      0.55      0.67       165\n",
      "           2       0.40      0.78      0.53        64\n",
      "\n",
      "    accuracy                           0.61       229\n",
      "   macro avg       0.63      0.66      0.60       229\n",
      "weighted avg       0.74      0.61      0.63       229\n",
      "\n",
      "\n",
      "\n"
     ]
    }
   ],
   "source": [
    "display_model_results_full('Default perceptron',Perceptron(),X_train,y_train,X_test,y_test)\n",
    "display_model_results_full('Default perceptron: tested on training data',Perceptron(),X_train,y_train,X_train,y_train)"
   ]
  },
  {
   "cell_type": "markdown",
   "metadata": {},
   "source": [
    "#### Parameter Experiments  \n",
    "_I have chosen to experiment with the penalty and the max_iter parameters_  \n",
    "_You may have chosen others_"
   ]
  },
  {
   "cell_type": "code",
   "execution_count": 14,
   "metadata": {},
   "outputs": [
    {
     "name": "stdout",
     "output_type": "stream",
     "text": [
      "No penalty, default #epochs (1000). Brief results\n",
      "f1 score: 0.6225490196078431\n",
      "accuracy: 0.7402597402597403\n",
      "\n",
      "\n",
      "L2 penalty, default #epochs (1000). Brief results\n",
      "f1 score: 0.2957317073170732\n",
      "accuracy: 0.2987012987012987\n",
      "\n",
      "\n",
      "L1 penalty, default #epochs (1000). Brief results\n",
      "f1 score: 0.6177422836175265\n",
      "accuracy: 0.7012987012987013\n",
      "\n",
      "\n",
      "Elasticnet penalty, default #epochs (1000). Brief results\n",
      "f1 score: 0.20454545454545453\n",
      "accuracy: 0.22077922077922077\n",
      "\n",
      "\n"
     ]
    }
   ],
   "source": [
    "#Experiment with the penalty type.\n",
    "display_model_results_brief('No penalty, default #epochs (1000)',Perceptron(),X_train,y_train,X_test,y_test)\n",
    "display_model_results_brief('L2 penalty, default #epochs (1000)',Perceptron(penalty='l2'),X_train,y_train,X_test,y_test)\n",
    "display_model_results_brief('L1 penalty, default #epochs (1000)',Perceptron(penalty='l1'),X_train,y_train,X_test,y_test)\n",
    "display_model_results_brief('Elasticnet penalty, default #epochs (1000)',Perceptron(penalty='elasticnet'),X_train,y_train,X_test,y_test)"
   ]
  },
  {
   "cell_type": "code",
   "execution_count": 15,
   "metadata": {},
   "outputs": [
    {
     "name": "stdout",
     "output_type": "stream",
     "text": [
      "No penalty, 1 epoch. Brief results\n",
      "f1 score: 0.4696969696969697\n",
      "accuracy: 0.7402597402597403\n",
      "\n",
      "\n",
      "No penalty, 10 epochs. Brief results\n",
      "f1 score: 0.6225490196078431\n",
      "accuracy: 0.7402597402597403\n",
      "\n",
      "\n",
      "No penalty, 100 epochs. Brief results\n",
      "f1 score: 0.6225490196078431\n",
      "accuracy: 0.7402597402597403\n",
      "\n",
      "\n",
      "No penalty, 1000 epochs (default). Brief results\n",
      "f1 score: 0.6225490196078431\n",
      "accuracy: 0.7402597402597403\n",
      "\n",
      "\n"
     ]
    },
    {
     "name": "stderr",
     "output_type": "stream",
     "text": [
      "C:\\Users\\Harry\\anaconda3\\lib\\site-packages\\sklearn\\linear_model\\_stochastic_gradient.py:696: ConvergenceWarning: Maximum number of iteration reached before convergence. Consider increasing max_iter to improve the fit.\n",
      "  warnings.warn(\n"
     ]
    }
   ],
   "source": [
    "display_model_results_brief('No penalty, 1 epoch',Perceptron(max_iter = 1),X_train,y_train,X_test,y_test)\n",
    "display_model_results_brief('No penalty, 10 epochs',Perceptron(max_iter = 10),X_train,y_train,X_test,y_test)\n",
    "display_model_results_brief('No penalty, 100 epochs',Perceptron(max_iter = 100),X_train,y_train,X_test,y_test)\n",
    "display_model_results_brief('No penalty, 1000 epochs (default)',Perceptron(),X_train,y_train,X_test,y_test)"
   ]
  },
  {
   "cell_type": "markdown",
   "metadata": {},
   "source": [
    "# Task 2: Comparison to SVC\n",
    "_As we can reuse the utility functions we wrote previously, this is fairly straightforward_"
   ]
  },
  {
   "cell_type": "code",
   "execution_count": 16,
   "metadata": {},
   "outputs": [
    {
     "name": "stdout",
     "output_type": "stream",
     "text": [
      "Default linear SVC. Brief results\n",
      "f1 score: 0.5463565891472868\n",
      "accuracy: 0.7532467532467533\n",
      "\n",
      "\n"
     ]
    }
   ],
   "source": [
    "from sklearn.svm import SVC\n",
    "display_model_results_brief('Default linear SVC',SVC(kernel='linear'),X_train,y_train,X_test,y_test)"
   ]
  },
  {
   "cell_type": "markdown",
   "metadata": {},
   "source": [
    "_Let's assume we have experimented with the SVC parameters and the default ones give us the best results. How does the (linear) SVC compare to the perceptron?_"
   ]
  },
  {
   "cell_type": "code",
   "execution_count": 17,
   "metadata": {},
   "outputs": [
    {
     "name": "stdout",
     "output_type": "stream",
     "text": [
      "Perceptron: tested on training data. Full results\n"
     ]
    },
    {
     "data": {
      "image/png": "[encoded data removed]",
      "text/plain": [
       "<Figure size 432x288 with 2 Axes>"
      ]
     },
     "metadata": {
      "needs_background": "light"
     },
     "output_type": "display_data"
    },
    {
     "name": "stdout",
     "output_type": "stream",
     "text": [
      "              precision    recall  f1-score   support\n",
      "\n",
      "           1       0.87      0.55      0.67       165\n",
      "           2       0.40      0.78      0.53        64\n",
      "\n",
      "    accuracy                           0.61       229\n",
      "   macro avg       0.63      0.66      0.60       229\n",
      "weighted avg       0.74      0.61      0.63       229\n",
      "\n",
      "\n",
      "\n",
      "Linear SVC: tested on training data. Full results\n"
     ]
    },
    {
     "data": {
      "image/png": "[encoded data removed]",
      "text/plain": [
       "<Figure size 432x288 with 2 Axes>"
      ]
     },
     "metadata": {
      "needs_background": "light"
     },
     "output_type": "display_data"
    },
    {
     "name": "stdout",
     "output_type": "stream",
     "text": [
      "              precision    recall  f1-score   support\n",
      "\n",
      "           1       0.77      0.95      0.85       165\n",
      "           2       0.67      0.25      0.36        64\n",
      "\n",
      "    accuracy                           0.76       229\n",
      "   macro avg       0.72      0.60      0.61       229\n",
      "weighted avg       0.74      0.76      0.71       229\n",
      "\n",
      "\n",
      "\n"
     ]
    }
   ],
   "source": [
    "display_model_results_full('Perceptron: tested on training data',Perceptron(),X_train,y_train,X_train,y_train)\n",
    "display_model_results_full('Linear SVC: tested on training data',SVC(kernel='linear'),X_train,y_train,X_train,y_train)"
   ]
  },
  {
   "cell_type": "code",
   "execution_count": 18,
   "metadata": {},
   "outputs": [
    {
     "name": "stdout",
     "output_type": "stream",
     "text": [
      "Perceptron: tested on test data. Full results\n"
     ]
    },
    {
     "data": {
      "image/png": "[encoded data removed]",
      "text/plain": [
       "<Figure size 432x288 with 2 Axes>"
      ]
     },
     "metadata": {
      "needs_background": "light"
     },
     "output_type": "display_data"
    },
    {
     "name": "stdout",
     "output_type": "stream",
     "text": [
      "              precision    recall  f1-score   support\n",
      "\n",
      "           1       0.83      0.83      0.83        60\n",
      "           2       0.41      0.41      0.41        17\n",
      "\n",
      "    accuracy                           0.74        77\n",
      "   macro avg       0.62      0.62      0.62        77\n",
      "weighted avg       0.74      0.74      0.74        77\n",
      "\n",
      "\n",
      "\n",
      "Linear SVC: tested on test data. Full results\n"
     ]
    },
    {
     "data": {
      "image/png": "[encoded data removed]",
      "text/plain": [
       "<Figure size 432x288 with 2 Axes>"
      ]
     },
     "metadata": {
      "needs_background": "light"
     },
     "output_type": "display_data"
    },
    {
     "name": "stdout",
     "output_type": "stream",
     "text": [
      "              precision    recall  f1-score   support\n",
      "\n",
      "           1       0.80      0.92      0.85        60\n",
      "           2       0.38      0.18      0.24        17\n",
      "\n",
      "    accuracy                           0.75        77\n",
      "   macro avg       0.59      0.55      0.55        77\n",
      "weighted avg       0.70      0.75      0.72        77\n",
      "\n",
      "\n",
      "\n"
     ]
    }
   ],
   "source": [
    "display_model_results_full('Perceptron: tested on test data',Perceptron(),X_train,y_train,X_test,y_test)\n",
    "display_model_results_full('Linear SVC: tested on test data',SVC(kernel='linear'),X_train,y_train,X_test,y_test)"
   ]
  },
  {
   "cell_type": "code",
   "execution_count": null,
   "metadata": {},
   "outputs": [],
   "source": []
  }
 ],
 "metadata": {
  "kernelspec": {
   "display_name": "Python 3 (ipykernel)",
   "language": "python",
   "name": "python3"
  },
  "language_info": {
   "codemirror_mode": {
    "name": "ipython",
    "version": 3
   },
   "file_extension": ".py",
   "mimetype": "text/x-python",
   "name": "python",
   "nbconvert_exporter": "python",
   "pygments_lexer": "ipython3",
   "version": "3.9.12"
  }
 },
 "nbformat": 4,
 "nbformat_minor": 4
}
