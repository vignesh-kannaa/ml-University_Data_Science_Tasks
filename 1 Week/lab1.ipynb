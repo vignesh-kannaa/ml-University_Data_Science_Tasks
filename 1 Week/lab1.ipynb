{
 "cells": [
  {
   "cell_type": "code",
   "execution_count": 2,
   "id": "7abd5fcf",
   "metadata": {},
   "outputs": [],
   "source": [
    "import pandas as pd\n",
    "import matplotlib.pyplot as plt\n",
    "from sklearn.linear_model import LinearRegression"
   ]
  },
  {
   "cell_type": "code",
   "execution_count": 3,
   "id": "252b72c4",
   "metadata": {
    "scrolled": true
   },
   "outputs": [
    {
     "data": {
      "text/html": [
       "<div>\n",
       "<style scoped>\n",
       "    .dataframe tbody tr th:only-of-type {\n",
       "        vertical-align: middle;\n",
       "    }\n",
       "\n",
       "    .dataframe tbody tr th {\n",
       "        vertical-align: top;\n",
       "    }\n",
       "\n",
       "    .dataframe thead th {\n",
       "        text-align: right;\n",
       "    }\n",
       "</style>\n",
       "<table border=\"1\" class=\"dataframe\">\n",
       "  <thead>\n",
       "    <tr style=\"text-align: right;\">\n",
       "      <th></th>\n",
       "      <th>x</th>\n",
       "      <th>y</th>\n",
       "    </tr>\n",
       "  </thead>\n",
       "  <tbody>\n",
       "    <tr>\n",
       "      <th>0</th>\n",
       "      <td>1.063677</td>\n",
       "      <td>1.831373</td>\n",
       "    </tr>\n",
       "    <tr>\n",
       "      <th>1</th>\n",
       "      <td>1.165164</td>\n",
       "      <td>1.683891</td>\n",
       "    </tr>\n",
       "    <tr>\n",
       "      <th>2</th>\n",
       "      <td>2.192875</td>\n",
       "      <td>-0.416739</td>\n",
       "    </tr>\n",
       "    <tr>\n",
       "      <th>3</th>\n",
       "      <td>2.771615</td>\n",
       "      <td>-1.355635</td>\n",
       "    </tr>\n",
       "    <tr>\n",
       "      <th>4</th>\n",
       "      <td>2.374967</td>\n",
       "      <td>-0.665781</td>\n",
       "    </tr>\n",
       "  </tbody>\n",
       "</table>\n",
       "</div>"
      ],
      "text/plain": [
       "          x         y\n",
       "0  1.063677  1.831373\n",
       "1  1.165164  1.683891\n",
       "2  2.192875 -0.416739\n",
       "3  2.771615 -1.355635\n",
       "4  2.374967 -0.665781"
      ]
     },
     "execution_count": 3,
     "metadata": {},
     "output_type": "execute_result"
    }
   ],
   "source": [
    "df=pd.read_csv('lab1data.csv')\n",
    "df.head()"
   ]
  },
  {
   "cell_type": "code",
   "execution_count": 4,
   "id": "70eedd15",
   "metadata": {},
   "outputs": [
    {
     "data": {
      "text/html": [
       "<div>\n",
       "<style scoped>\n",
       "    .dataframe tbody tr th:only-of-type {\n",
       "        vertical-align: middle;\n",
       "    }\n",
       "\n",
       "    .dataframe tbody tr th {\n",
       "        vertical-align: top;\n",
       "    }\n",
       "\n",
       "    .dataframe thead th {\n",
       "        text-align: right;\n",
       "    }\n",
       "</style>\n",
       "<table border=\"1\" class=\"dataframe\">\n",
       "  <thead>\n",
       "    <tr style=\"text-align: right;\">\n",
       "      <th></th>\n",
       "      <th>x</th>\n",
       "      <th>y</th>\n",
       "    </tr>\n",
       "  </thead>\n",
       "  <tbody>\n",
       "    <tr>\n",
       "      <th>count</th>\n",
       "      <td>100.000000</td>\n",
       "      <td>100.000000</td>\n",
       "    </tr>\n",
       "    <tr>\n",
       "      <th>mean</th>\n",
       "      <td>1.641041</td>\n",
       "      <td>0.695500</td>\n",
       "    </tr>\n",
       "    <tr>\n",
       "      <th>std</th>\n",
       "      <td>0.844399</td>\n",
       "      <td>1.663371</td>\n",
       "    </tr>\n",
       "    <tr>\n",
       "      <th>min</th>\n",
       "      <td>0.067169</td>\n",
       "      <td>-2.091158</td>\n",
       "    </tr>\n",
       "    <tr>\n",
       "      <th>25%</th>\n",
       "      <td>0.962664</td>\n",
       "      <td>-0.661198</td>\n",
       "    </tr>\n",
       "    <tr>\n",
       "      <th>50%</th>\n",
       "      <td>1.627678</td>\n",
       "      <td>0.755068</td>\n",
       "    </tr>\n",
       "    <tr>\n",
       "      <th>75%</th>\n",
       "      <td>2.302085</td>\n",
       "      <td>2.045842</td>\n",
       "    </tr>\n",
       "    <tr>\n",
       "      <th>max</th>\n",
       "      <td>2.972237</td>\n",
       "      <td>3.650459</td>\n",
       "    </tr>\n",
       "  </tbody>\n",
       "</table>\n",
       "</div>"
      ],
      "text/plain": [
       "                x           y\n",
       "count  100.000000  100.000000\n",
       "mean     1.641041    0.695500\n",
       "std      0.844399    1.663371\n",
       "min      0.067169   -2.091158\n",
       "25%      0.962664   -0.661198\n",
       "50%      1.627678    0.755068\n",
       "75%      2.302085    2.045842\n",
       "max      2.972237    3.650459"
      ]
     },
     "execution_count": 4,
     "metadata": {},
     "output_type": "execute_result"
    }
   ],
   "source": [
    "df.describe()"
   ]
  },
  {
   "cell_type": "code",
   "execution_count": 5,
   "id": "cec6b1c7",
   "metadata": {
    "scrolled": true
   },
   "outputs": [
    {
     "data": {
      "text/plain": [
       "0     1.063677\n",
       "1     1.165164\n",
       "2     2.192875\n",
       "3     2.771615\n",
       "4     2.374967\n",
       "        ...   \n",
       "95    2.787426\n",
       "96    0.410379\n",
       "97    0.458939\n",
       "98    0.678501\n",
       "99    2.706991\n",
       "Name: x, Length: 100, dtype: float64"
      ]
     },
     "execution_count": 5,
     "metadata": {},
     "output_type": "execute_result"
    }
   ],
   "source": [
    "X=df['x']\n",
    "X"
   ]
  },
  {
   "cell_type": "markdown",
   "id": "0c0fc1df",
   "metadata": {},
   "source": [
    "##### to convert to array"
   ]
  },
  {
   "cell_type": "code",
   "execution_count": 9,
   "id": "493f8d27",
   "metadata": {
    "scrolled": true
   },
   "outputs": [
    {
     "data": {
      "text/plain": [
       "array([[1.06367706],\n",
       "       [1.16516439],\n",
       "       [2.19287492],\n",
       "       [2.77161456],\n",
       "       [2.37496724],\n",
       "       [0.50161757],\n",
       "       [1.09537969],\n",
       "       [1.57287921],\n",
       "       [0.79067124],\n",
       "       [0.44220256],\n",
       "       [0.98433691],\n",
       "       [2.76375817],\n",
       "       [1.07841057],\n",
       "       [2.4758784 ],\n",
       "       [0.71177029],\n",
       "       [1.54317419],\n",
       "       [0.59278571],\n",
       "       [0.43247789],\n",
       "       [2.13320639],\n",
       "       [2.19315268],\n",
       "       [1.42636188],\n",
       "       [1.75252919],\n",
       "       [2.54705659],\n",
       "       [0.91649819],\n",
       "       [2.6504226 ],\n",
       "       [1.07078385],\n",
       "       [0.97173102],\n",
       "       [2.21683083],\n",
       "       [1.13979179],\n",
       "       [2.7519293 ],\n",
       "       [2.42810926],\n",
       "       [2.25383163],\n",
       "       [1.48427687],\n",
       "       [0.14411147],\n",
       "       [1.17413784],\n",
       "       [0.93546166],\n",
       "       [1.16101174],\n",
       "       [1.25108296],\n",
       "       [0.93300001],\n",
       "       [2.24458516],\n",
       "       [1.28225686],\n",
       "       [2.81874707],\n",
       "       [0.34391358],\n",
       "       [2.74540189],\n",
       "       [2.65231384],\n",
       "       [2.79084515],\n",
       "       [1.68522317],\n",
       "       [2.9398542 ],\n",
       "       [2.46746675],\n",
       "       [1.62309066],\n",
       "       [1.7758479 ],\n",
       "       [2.24886279],\n",
       "       [0.29997889],\n",
       "       [2.20585755],\n",
       "       [1.47922512],\n",
       "       [1.13035208],\n",
       "       [2.27957361],\n",
       "       [1.34290934],\n",
       "       [2.96637496],\n",
       "       [0.93184766],\n",
       "       [2.10560262],\n",
       "       [2.72221268],\n",
       "       [2.33635936],\n",
       "       [2.25985209],\n",
       "       [2.26498475],\n",
       "       [2.59535197],\n",
       "       [1.75168901],\n",
       "       [2.7831152 ],\n",
       "       [0.06716912],\n",
       "       [0.87384898],\n",
       "       [2.88711415],\n",
       "       [2.22235835],\n",
       "       [2.29066071],\n",
       "       [2.85950135],\n",
       "       [0.25308641],\n",
       "       [1.64558147],\n",
       "       [1.00988658],\n",
       "       [1.19918412],\n",
       "       [2.05155377],\n",
       "       [0.79457831],\n",
       "       [0.53168653],\n",
       "       [1.14830592],\n",
       "       [0.66794214],\n",
       "       [1.63226475],\n",
       "       [2.74513429],\n",
       "       [2.267695  ],\n",
       "       [2.97223731],\n",
       "       [1.66807633],\n",
       "       [0.24477699],\n",
       "       [0.42763661],\n",
       "       [2.27862665],\n",
       "       [1.35649671],\n",
       "       [2.04828165],\n",
       "       [1.06556347],\n",
       "       [0.6899819 ],\n",
       "       [2.78742583],\n",
       "       [0.41037865],\n",
       "       [0.45893891],\n",
       "       [0.67850118],\n",
       "       [2.70699091]])"
      ]
     },
     "execution_count": 9,
     "metadata": {},
     "output_type": "execute_result"
    }
   ],
   "source": [
    "X=df['x'].values.reshape(-1,1)\n",
    "X"
   ]
  },
  {
   "cell_type": "code",
   "execution_count": 10,
   "id": "696b97ee",
   "metadata": {},
   "outputs": [],
   "source": [
    "y = df['y']"
   ]
  },
  {
   "cell_type": "code",
   "execution_count": 11,
   "id": "41c83e76",
   "metadata": {
    "scrolled": true
   },
   "outputs": [],
   "source": [
    "reg = LinearRegression()\n",
    "reg.fit(X, y)\n",
    "y_pred = reg.predict(X)"
   ]
  },
  {
   "cell_type": "code",
   "execution_count": 15,
   "id": "61c27c78",
   "metadata": {},
   "outputs": [
    {
     "data": {
      "image/png": "[encoded data removed]",
      "text/plain": [
       "<Figure size 432x288 with 1 Axes>"
      ]
     },
     "metadata": {
      "needs_background": "light"
     },
     "output_type": "display_data"
    }
   ],
   "source": [
    "plt.scatter(X, y, color='red')\n",
    "dia=plt.plot(X, y_pred, color='blue', linewidth=1)"
   ]
  },
  {
   "cell_type": "code",
   "execution_count": null,
   "id": "fce3a78e",
   "metadata": {},
   "outputs": [],
   "source": []
  }
 ],
 "metadata": {
  "kernelspec": {
   "display_name": "Python 3 (ipykernel)",
   "language": "python",
   "name": "python3"
  },
  "language_info": {
   "codemirror_mode": {
    "name": "ipython",
    "version": 3
   },
   "file_extension": ".py",
   "mimetype": "text/x-python",
   "name": "python",
   "nbconvert_exporter": "python",
   "pygments_lexer": "ipython3",
   "version": "3.9.16"
  }
 },
 "nbformat": 4,
 "nbformat_minor": 5
}
