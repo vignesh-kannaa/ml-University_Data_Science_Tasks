{
 "cells": [
  {
   "cell_type": "code",
   "execution_count": 1,
   "id": "cb3071e2",
   "metadata": {},
   "outputs": [],
   "source": [
    "import pandas as pd\n",
    "import matplotlib.pyplot as plt\n",
    "from sklearn.linear_model import LinearRegression\n",
    "from sklearn.metrics import mean_squared_error"
   ]
  },
  {
   "cell_type": "code",
   "execution_count": 2,
   "id": "4d6331e5",
   "metadata": {},
   "outputs": [],
   "source": [
    "ds=pd.read_csv('bp_syst.csv',header=None)"
   ]
  },
  {
   "cell_type": "code",
   "execution_count": null,
   "id": "bb70e760",
   "metadata": {
    "scrolled": true
   },
   "outputs": [],
   "source": [
    "X=ds.iloc[:,0:1].values\n",
    "y=ds.iloc[:,1:2].values"
   ]
  },
  {
   "cell_type": "code",
   "execution_count": 7,
   "id": "a651d4f6",
   "metadata": {},
   "outputs": [
    {
     "data": {
      "text/plain": [
       "array([[39],\n",
       "       [47],\n",
       "       [45],\n",
       "       [47],\n",
       "       [65],\n",
       "       [46],\n",
       "       [67],\n",
       "       [42],\n",
       "       [67],\n",
       "       [56],\n",
       "       [64],\n",
       "       [56],\n",
       "       [59],\n",
       "       [34],\n",
       "       [42],\n",
       "       [48],\n",
       "       [45],\n",
       "       [17],\n",
       "       [20],\n",
       "       [19],\n",
       "       [36],\n",
       "       [50],\n",
       "       [39],\n",
       "       [21],\n",
       "       [44],\n",
       "       [53],\n",
       "       [63],\n",
       "       [29],\n",
       "       [25],\n",
       "       [69]], dtype=int64)"
      ]
     },
     "execution_count": 7,
     "metadata": {},
     "output_type": "execute_result"
    }
   ],
   "source": [
    "X"
   ]
  },
  {
   "cell_type": "code",
   "execution_count": 4,
   "id": "f9ca38d5",
   "metadata": {},
   "outputs": [
    {
     "data": {
      "text/plain": [
       "<matplotlib.collections.PathCollection at 0x26cafabb730>"
      ]
     },
     "execution_count": 4,
     "metadata": {},
     "output_type": "execute_result"
    },
    {
     "data": {
      "image/png": "[encoded data removed]",
      "text/plain": [
       "<Figure size 432x288 with 1 Axes>"
      ]
     },
     "metadata": {
      "needs_background": "light"
     },
     "output_type": "display_data"
    }
   ],
   "source": [
    "plt.xlabel('age')\n",
    "plt.ylabel('systolic blood pressure')\n",
    "plt.scatter(X, y, color = 'red')"
   ]
  },
  {
   "cell_type": "markdown",
   "id": "388936b5",
   "metadata": {},
   "source": [
    "# Regression - all data as training"
   ]
  },
  {
   "cell_type": "code",
   "execution_count": 5,
   "id": "6229fdfd",
   "metadata": {},
   "outputs": [],
   "source": [
    "reg = LinearRegression()\n",
    "reg.fit(X, y)\n",
    "y_pred0 = reg.predict(X)"
   ]
  },
  {
   "cell_type": "code",
   "execution_count": 6,
   "id": "911f2437",
   "metadata": {
    "scrolled": true
   },
   "outputs": [
    {
     "name": "stdout",
     "output_type": "stream",
     "text": [
      "co-efficient: [[0.97087035]]\n",
      "mean Squared error: 279.78146604816936\n",
      "co-efficient of determination: 0.43239473192759537\n"
     ]
    }
   ],
   "source": [
    "coefficient=reg.coef_\n",
    "print('co-efficient:',coefficient)\n",
    "mse = mean_squared_error(y, y_pred0)\n",
    "print('mean Squared error:',mse)\n",
    "cod=reg.score(X, y);\n",
    "print('co-efficient of determination:',cod)"
   ]
  },
  {
   "cell_type": "code",
   "execution_count": 7,
   "id": "8ccbc0a5",
   "metadata": {},
   "outputs": [
    {
     "data": {
      "text/plain": [
       "Text(0, 0.5, 'systolic blood pressure')"
      ]
     },
     "execution_count": 7,
     "metadata": {},
     "output_type": "execute_result"
    },
    {
     "data": {
      "image/png": "[encoded data removed]",
      "text/plain": [
       "<Figure size 432x288 with 1 Axes>"
      ]
     },
     "metadata": {
      "needs_background": "light"
     },
     "output_type": "display_data"
    }
   ],
   "source": [
    "plt.scatter(X, y, color='red')\n",
    "plt.plot(X, y_pred0, color='blue')\n",
    "plt.title('Full data as training')\n",
    "plt.xlabel('age')\n",
    "plt.ylabel('systolic blood pressure')"
   ]
  },
  {
   "cell_type": "markdown",
   "id": "3fda07b8",
   "metadata": {},
   "source": [
    " <h2>Regression - Training and Testing data</h2>"
   ]
  },
  {
   "cell_type": "code",
   "execution_count": 8,
   "id": "20c9dd04",
   "metadata": {},
   "outputs": [],
   "source": [
    "from sklearn.model_selection import train_test_split\n",
    "X_train, X_test, y_train, y_test = train_test_split(X, y, test_size = 1/3)"
   ]
  },
  {
   "cell_type": "code",
   "execution_count": 16,
   "id": "b6da33c8",
   "metadata": {},
   "outputs": [],
   "source": [
    "regression = LinearRegression()\n",
    "regression.fit(X_train, y_train)\n",
    "y_pred_train =regression.predict(X_train)\n",
    "y_pred = regression.predict(X_test)"
   ]
  },
  {
   "cell_type": "code",
   "execution_count": 19,
   "id": "9baeaa20",
   "metadata": {},
   "outputs": [
    {
     "name": "stdout",
     "output_type": "stream",
     "text": [
      "co-efficient: [[0.96159782]]\n",
      "mean Squared error: 144.6970877163792\n",
      "co-efficient of determination: 0.3458540338319205\n",
      "intercept [101.01842026]\n"
     ]
    }
   ],
   "source": [
    "coefficient=regression.coef_\n",
    "print('co-efficient:',coefficient)\n",
    "mse = mean_squared_error(y_test, y_pred)\n",
    "print('mean Squared error:',mse)\n",
    "cod=regression.score(X_test, y_test)\n",
    "print('co-efficient of determination:',cod) \n",
    "print('intercept',regression.intercept_)"
   ]
  },
  {
   "cell_type": "code",
   "execution_count": 18,
   "id": "13dbc3c1",
   "metadata": {
    "scrolled": true
   },
   "outputs": [
    {
     "data": {
      "image/png": "[encoded data removed]",
      "text/plain": [
       "<Figure size 432x288 with 1 Axes>"
      ]
     },
     "metadata": {
      "needs_background": "light"
     },
     "output_type": "display_data"
    }
   ],
   "source": [
    "plt.scatter(X_train, y_train, color = 'red')\n",
    "plt.plot(X_train, regression.predict(X_train), color = 'blue')\n",
    "plt.title('Training data')\n",
    "plt.xlabel('age')\n",
    "plt.ylabel('systolic blood pressure')\n",
    "plt.show()"
   ]
  },
  {
   "cell_type": "code",
   "execution_count": 12,
   "id": "a8afa9cc",
   "metadata": {
    "scrolled": false
   },
   "outputs": [
    {
     "data": {
      "image/png": "[encoded data removed]",
      "text/plain": [
       "<Figure size 432x288 with 1 Axes>"
      ]
     },
     "metadata": {
      "needs_background": "light"
     },
     "output_type": "display_data"
    }
   ],
   "source": [
    "plt.scatter(X_test, y_test, color = 'red')\n",
    "plt.plot(X_test, y_pred, color = 'blue')\n",
    "plt.title('Testing data')\n",
    "plt.xlabel('age')\n",
    "plt.ylabel('systolic blood pressure')\n",
    "\n",
    "plt.show()"
   ]
  },
  {
   "cell_type": "markdown",
   "id": "6f2247bd",
   "metadata": {},
   "source": [
    "<h2>Full Dataset vs training/testing dataset</h2>"
   ]
  },
  {
   "cell_type": "code",
   "execution_count": 15,
   "id": "d1c8e41e",
   "metadata": {
    "scrolled": true
   },
   "outputs": [
    {
     "data": {
      "image/png": "[encoded data removed]",
      "text/plain": [
       "<Figure size 432x288 with 1 Axes>"
      ]
     },
     "metadata": {
      "needs_background": "light"
     },
     "output_type": "display_data"
    }
   ],
   "source": [
    "plt.scatter(X, y, color = 'red')\n",
    "plt.plot(X,y_pred0,color='red')\n",
    "plt.scatter(X_test, y_test, color = 'blue')\n",
    "plt.plot(X_test, y_pred, color = 'blue')\n",
    "#plt.plot(X_train,y_pred_train,color='yellow')\n",
    "plt.show()"
   ]
  },
  {
   "cell_type": "markdown",
   "id": "897f71aa",
   "metadata": {},
   "source": [
    "### notes:\n",
    "use functions\n",
    "\n",
    "use random_state so that the data is not shuffled\n",
    "\n",
    "overfitting -The more complex model has learned the noise in the data, not(just) the underlying trend and so doesn't generalise well to unseen data."
   ]
  },
  {
   "cell_type": "code",
   "execution_count": null,
   "id": "81a78865",
   "metadata": {},
   "outputs": [],
   "source": []
  }
 ],
 "metadata": {
  "kernelspec": {
   "display_name": "Python 3 (ipykernel)",
   "language": "python",
   "name": "python3"
  },
  "language_info": {
   "codemirror_mode": {
    "name": "ipython",
    "version": 3
   },
   "file_extension": ".py",
   "mimetype": "text/x-python",
   "name": "python",
   "nbconvert_exporter": "python",
   "pygments_lexer": "ipython3",
   "version": "3.9.16"
  }
 },
 "nbformat": 4,
 "nbformat_minor": 5
}
