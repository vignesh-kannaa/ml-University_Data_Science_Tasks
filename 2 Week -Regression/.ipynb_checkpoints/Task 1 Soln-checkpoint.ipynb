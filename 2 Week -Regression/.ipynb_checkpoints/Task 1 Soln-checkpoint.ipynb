{
 "cells": [
  {
   "cell_type": "code",
   "execution_count": 1,
   "id": "750c67a0",
   "metadata": {},
   "outputs": [],
   "source": [
    "import numpy as np\n",
    "import pandas as pd\n",
    "from sklearn.linear_model import LinearRegression\n",
    "import matplotlib.pyplot as plt"
   ]
  },
  {
   "cell_type": "code",
   "execution_count": 2,
   "id": "027184b0",
   "metadata": {},
   "outputs": [
    {
     "data": {
      "text/html": [
       "<div>\n",
       "<style scoped>\n",
       "    .dataframe tbody tr th:only-of-type {\n",
       "        vertical-align: middle;\n",
       "    }\n",
       "\n",
       "    .dataframe tbody tr th {\n",
       "        vertical-align: top;\n",
       "    }\n",
       "\n",
       "    .dataframe thead th {\n",
       "        text-align: right;\n",
       "    }\n",
       "</style>\n",
       "<table border=\"1\" class=\"dataframe\">\n",
       "  <thead>\n",
       "    <tr style=\"text-align: right;\">\n",
       "      <th></th>\n",
       "      <th>0</th>\n",
       "      <th>1</th>\n",
       "    </tr>\n",
       "  </thead>\n",
       "  <tbody>\n",
       "    <tr>\n",
       "      <th>0</th>\n",
       "      <td>39</td>\n",
       "      <td>144</td>\n",
       "    </tr>\n",
       "    <tr>\n",
       "      <th>1</th>\n",
       "      <td>47</td>\n",
       "      <td>220</td>\n",
       "    </tr>\n",
       "    <tr>\n",
       "      <th>2</th>\n",
       "      <td>45</td>\n",
       "      <td>138</td>\n",
       "    </tr>\n",
       "    <tr>\n",
       "      <th>3</th>\n",
       "      <td>47</td>\n",
       "      <td>145</td>\n",
       "    </tr>\n",
       "    <tr>\n",
       "      <th>4</th>\n",
       "      <td>65</td>\n",
       "      <td>162</td>\n",
       "    </tr>\n",
       "  </tbody>\n",
       "</table>\n",
       "</div>"
      ],
      "text/plain": [
       "    0    1\n",
       "0  39  144\n",
       "1  47  220\n",
       "2  45  138\n",
       "3  47  145\n",
       "4  65  162"
      ]
     },
     "execution_count": 2,
     "metadata": {},
     "output_type": "execute_result"
    }
   ],
   "source": [
    "df=pd.read_csv('bp_syst.csv', sep=',',header=None) #No headers\n",
    "df.head()"
   ]
  },
  {
   "cell_type": "code",
   "execution_count": 3,
   "id": "8955892c",
   "metadata": {},
   "outputs": [],
   "source": [
    "#As our data doesn't have headers, we can't use the header names to access columns.\n",
    "#iloc is a convenient way to access data by index\n",
    "X = df.iloc[:,0].values.reshape(-1,1)\n",
    "y = df.iloc[:,1]"
   ]
  },
  {
   "cell_type": "code",
   "execution_count": 4,
   "id": "74cd9401",
   "metadata": {},
   "outputs": [],
   "source": [
    "reg = LinearRegression()\n",
    "reg.fit(X, y)\n",
    "y_pred = reg.predict(X)"
   ]
  },
  {
   "cell_type": "code",
   "execution_count": 5,
   "id": "4a2dc17f",
   "metadata": {},
   "outputs": [
    {
     "data": {
      "text/plain": [
       "[<matplotlib.lines.Line2D at 0x23fe12c3340>]"
      ]
     },
     "execution_count": 5,
     "metadata": {},
     "output_type": "execute_result"
    },
    {
     "data": {
      "image/png": "[encoded data removed]",
      "text/plain": [
       "<Figure size 432x288 with 1 Axes>"
      ]
     },
     "metadata": {
      "needs_background": "light"
     },
     "output_type": "display_data"
    }
   ],
   "source": [
    "plt.scatter(X, y,  color='red')\n",
    "plt.plot(X, y_pred, color='blue', linewidth=1)"
   ]
  },
  {
   "cell_type": "code",
   "execution_count": 6,
   "id": "5ef62802",
   "metadata": {},
   "outputs": [],
   "source": [
    "from sklearn.metrics import mean_squared_error\n",
    "\n",
    "#We will want to display the results of multiple experiments.\n",
    "#It makes sense to factor common code into a reusable function.\n",
    "def display_results(X_test,y_test,reg):\n",
    "    plt.scatter(X_test, y_test,  color='red')\n",
    "    plt.plot(X_test, reg.predict(X_test), color='blue', linewidth=1)\n",
    "    plt.show()#Plot before executing next line of code.\n",
    "    ##\n",
    "    print('Intercept: {}'.format(reg.intercept_))\n",
    "    print('Gradient: {}'.format(reg.coef_[0]))\n",
    "    print('Coefficient of determination: {}'.format(reg.score(X_test,y_test)))\n",
    "    print('MSE: {}'.format(mean_squared_error(y_test,reg.predict(X_test))))"
   ]
  },
  {
   "cell_type": "code",
   "execution_count": 7,
   "id": "b8de4d84",
   "metadata": {},
   "outputs": [
    {
     "name": "stdout",
     "output_type": "stream",
     "text": [
      "Full Dataset\n"
     ]
    },
    {
     "data": {
      "image/png": "[encoded data removed]",
      "text/plain": [
       "<Figure size 432x288 with 1 Axes>"
      ]
     },
     "metadata": {
      "needs_background": "light"
     },
     "output_type": "display_data"
    },
    {
     "name": "stdout",
     "output_type": "stream",
     "text": [
      "Intercept: 98.71471813821842\n",
      "Gradient: 0.9708703514427235\n",
      "Coefficient of determination: 0.43239473192759537\n",
      "MSE: 279.78146604816936\n"
     ]
    }
   ],
   "source": [
    "print('Full Dataset')\n",
    "display_results(X,y,reg)"
   ]
  },
  {
   "cell_type": "code",
   "execution_count": 8,
   "id": "4640c350",
   "metadata": {},
   "outputs": [
    {
     "data": {
      "text/plain": [
       "LinearRegression()"
      ]
     },
     "execution_count": 8,
     "metadata": {},
     "output_type": "execute_result"
    }
   ],
   "source": [
    "from sklearn.model_selection import train_test_split\n",
    "\n",
    "X_train, X_test, y_train, y_test = train_test_split(X,y, test_size=0.33,random_state=42)\n",
    "reg_train = LinearRegression()\n",
    "reg_train.fit(X_train, y_train)"
   ]
  },
  {
   "cell_type": "code",
   "execution_count": 9,
   "id": "28edbc5f",
   "metadata": {},
   "outputs": [
    {
     "name": "stdout",
     "output_type": "stream",
     "text": [
      "Test Dataset\n"
     ]
    },
    {
     "data": {
      "image/png": "[encoded data removed]",
      "text/plain": [
       "<Figure size 432x288 with 1 Axes>"
      ]
     },
     "metadata": {
      "needs_background": "light"
     },
     "output_type": "display_data"
    },
    {
     "name": "stdout",
     "output_type": "stream",
     "text": [
      "Intercept: 92.56157013378234\n",
      "Gradient: 1.1061839803207094\n",
      "Coefficient of determination: 0.5216815893461753\n",
      "MSE: 113.57670660975069\n"
     ]
    }
   ],
   "source": [
    "#Note: we don't have the outlier point in our test dataset.\n",
    "print('Test Dataset')\n",
    "display_results(X_test,y_test,reg_train)"
   ]
  },
  {
   "cell_type": "code",
   "execution_count": 10,
   "id": "1023b175",
   "metadata": {},
   "outputs": [
    {
     "name": "stdout",
     "output_type": "stream",
     "text": [
      "Test Dataset With Outlier\n"
     ]
    },
    {
     "data": {
      "image/png": "[encoded data removed]",
      "text/plain": [
       "<Figure size 432x288 with 1 Axes>"
      ]
     },
     "metadata": {
      "needs_background": "light"
     },
     "output_type": "display_data"
    },
    {
     "name": "stdout",
     "output_type": "stream",
     "text": [
      "Intercept: 93.82727272727274\n",
      "Gradient: 1.0227272727272725\n",
      "Coefficient of determination: 0.10234043560775774\n",
      "MSE: 683.0201859504132\n"
     ]
    }
   ],
   "source": [
    "#If we do have the outlier point in our test set...\n",
    "#...(which I have achieved by fiddling with the random state. Do NOT try this at home.)...\n",
    "#...does it affect our results?\n",
    "\n",
    "X_train, X_test, y_train, y_test = train_test_split(X,y, test_size=0.33,random_state=44)\n",
    "reg_train = LinearRegression()\n",
    "reg_train.fit(X_train, y_train)\n",
    "print('Test Dataset With Outlier')\n",
    "display_results(X_test,y_test,reg_train)"
   ]
  },
  {
   "cell_type": "markdown",
   "id": "c40da285",
   "metadata": {},
   "source": [
    "Why are these differences important?\n",
    "What are we trying to achieve with regression?\n",
    " - Predicting values we have seen?\n",
    " - Predicting values we have not yet seen?\n",
    "\n",
    "Let's start by comparing two models, one simple and one complex, on a training set containing the outlier."
   ]
  },
  {
   "cell_type": "code",
   "execution_count": 11,
   "id": "9d9576d7",
   "metadata": {},
   "outputs": [
    {
     "name": "stdout",
     "output_type": "stream",
     "text": [
      "Comparison of linear regressor and MLP on the training data\n"
     ]
    },
    {
     "data": {
      "image/png": "[encoded data removed]",
      "text/plain": [
       "<Figure size 432x288 with 1 Axes>"
      ]
     },
     "metadata": {
      "needs_background": "light"
     },
     "output_type": "display_data"
    },
    {
     "name": "stdout",
     "output_type": "stream",
     "text": [
      "Linear Regressor MSE: 369.0972072771282\n",
      "MLP MSE: 141.65458834409156\n"
     ]
    }
   ],
   "source": [
    "X_train, X_test, y_train, y_test = train_test_split(X,y, test_size=0.33,random_state=42)\n",
    "\n",
    "# Our simple model: a linear regressor\n",
    "reg_train = LinearRegression()\n",
    "reg_train.fit(X_train, y_train)\n",
    "\n",
    "#Our more complex model: an MLP\n",
    "from sklearn.neural_network import MLPRegressor\n",
    "from sklearn.preprocessing import StandardScaler\n",
    "#Note: it is VERY important to scale features before passing them to an MLP\n",
    "#If you don't do this, it will perform very badly.\n",
    "scaler = StandardScaler()\n",
    "scaler.fit(X_train) #We create a scaler based on the training data only.\n",
    "X_train_scaled = scaler.transform(X_train)\n",
    "# Here we create and train an MLP with a single hidden layer containing 500\n",
    "# nodes (complex relative to the linear regressor). Some parameters to note:\n",
    "#  - alpha=0.  This stops the training process penalizing complex models.\n",
    "#              Useful in this example, but DO NOT DO THIS IN YOUR OWN WORK.\n",
    "#  - max_iter. The number of iterations of training. You can increase this\n",
    "#              if your algorithm isn't converging (you will see a warning).\n",
    "#  - solver.   The algorithm used to train the MLP. Here we have a relatively\n",
    "#              small dataset, so I have chosen 'lbfgs'. The default value\n",
    "#              'adam' works better on large datasets.\n",
    "mlp_reg_train = MLPRegressor(random_state=42,hidden_layer_sizes=(500), alpha=0,max_iter=3000,solver='lbfgs').fit(X_train_scaled, y_train)\n",
    "\n",
    "# The next two lines just allow us to plot the output of our non-linear model\n",
    "# without it looking like a complete mess! Note that we are using X_interval\n",
    "# as an input to our MLP, so need to scale it before it is used USING THE\n",
    "# SCALER WE TRAINED ON THE TRAINING DATA.\n",
    "X_interval = np.arange(20,70,0.1).reshape(-1,1)\n",
    "X_interval_scaled = scaler.transform(X_interval)\n",
    "\n",
    "print('Comparison of linear regressor and MLP on the training data')\n",
    "plt.scatter(X_train, y_train,  color='red')\n",
    "plt.plot(X_train, reg_train.predict(X_train), color='blue', linewidth=1)\n",
    "plt.plot(X_interval, mlp_reg_train.predict(X_interval_scaled), color='black', linewidth=1)\n",
    "plt.show()\n",
    "print('Linear Regressor MSE: {}'.format(mean_squared_error(y_train,reg_train.predict(X_train))))\n",
    "#Note again that we are scaling the inputs (X_train) before passing them to the MLP\n",
    "print('MLP MSE: {}'.format(mean_squared_error(y_train,mlp_reg_train.predict(scaler.transform(X_train)))))"
   ]
  },
  {
   "cell_type": "markdown",
   "id": "3edd88b9",
   "metadata": {},
   "source": [
    "Which of these models fits the data best?\n",
    "\n",
    "Any other observations?\n",
    "\n",
    "Now let's compare these two models against the (unseeen) test \n",
    "data."
   ]
  },
  {
   "cell_type": "code",
   "execution_count": 12,
   "id": "d76bec91",
   "metadata": {},
   "outputs": [
    {
     "name": "stdout",
     "output_type": "stream",
     "text": [
      "Comparison of linear regressor and MLP on the test data\n"
     ]
    },
    {
     "data": {
      "image/png": "[encoded data removed]",
      "text/plain": [
       "<Figure size 432x288 with 1 Axes>"
      ]
     },
     "metadata": {
      "needs_background": "light"
     },
     "output_type": "display_data"
    },
    {
     "name": "stdout",
     "output_type": "stream",
     "text": [
      "Linear Regressor MSE: 113.57670660975069\n",
      "MLP MSE: 1417.8257862551338\n"
     ]
    }
   ],
   "source": [
    "print('Comparison of linear regressor and MLP on the test data')\n",
    "plt.scatter(X_test, y_test,  color='red')\n",
    "plt.plot(X_test, reg_train.predict(X_test), color='blue', linewidth=1)\n",
    "plt.plot(X_interval, mlp_reg_train.predict(X_interval_scaled), color='black', linewidth=1)\n",
    "plt.show()\n",
    "print('Linear Regressor MSE: {}'.format(mean_squared_error(y_test,reg_train.predict(X_test))))\n",
    "print('MLP MSE: {}'.format(mean_squared_error(y_test,mlp_reg_train.predict(scaler.transform(X_test)))))"
   ]
  },
  {
   "cell_type": "markdown",
   "id": "d8dd6bf5",
   "metadata": {},
   "source": [
    "This is an example of **overfitting**. The more complex model has learned the noise in the data, not (just) the underlying trend and so doesn't generalise well to unseen data.\n",
    "\n",
    "Takeaway messages:\n",
    " - never evaluate your model's final performance on data that it has already seen (training data).\n",
    "   - training performance can still give you useful information though.\n",
    "   - poor training performance can indicate a model which is badly suited to the problem\n",
    "   - very low training error can give you an early indication of overfitting\n",
    " - if you are using a (potentially) complex model, regularisation (e.g. the alpha term in the MLP) can help avoid overfitting."
   ]
  },
  {
   "cell_type": "code",
   "execution_count": null,
   "id": "8fcafdc5",
   "metadata": {},
   "outputs": [],
   "source": []
  }
 ],
 "metadata": {
  "kernelspec": {
   "display_name": "Python 3 (ipykernel)",
   "language": "python",
   "name": "python3"
  },
  "language_info": {
   "codemirror_mode": {
    "name": "ipython",
    "version": 3
   },
   "file_extension": ".py",
   "mimetype": "text/x-python",
   "name": "python",
   "nbconvert_exporter": "python",
   "pygments_lexer": "ipython3",
   "version": "3.9.13"
  }
 },
 "nbformat": 4,
 "nbformat_minor": 5
}
