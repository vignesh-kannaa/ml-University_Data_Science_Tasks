{
 "cells": [
  {
   "cell_type": "markdown",
   "metadata": {},
   "source": [
    "### Non-linear Models\n",
    "##### Adapted by Dr. Harry Goldingay from solution by Miss Katrina Jones and Dr. Aniko Ekart (ML Module, 2021)"
   ]
  },
  {
   "cell_type": "markdown",
   "metadata": {},
   "source": [
    "_Note: this task operates on the same dataset as the task from the previous week, so I will import much of the code from that task's solution. The code which is unique to this week's task starts after the \"Task 1\" heading below._ "
   ]
  },
  {
   "cell_type": "code",
   "execution_count": 1,
   "metadata": {},
   "outputs": [],
   "source": [
    "# Import general modules\n",
    "import pandas as pd # For reading the csv\n",
    "from sklearn.linear_model import Perceptron # Our chosen model\n",
    "from sklearn.metrics import confusion_matrix # For creation of the confusion matrix\n",
    "from sklearn.metrics import classification_report # For creation of precision, recall and f1-measures\n",
    "from sklearn.metrics import accuracy_score # For help in comparing data given using accuracy score vs confusion matrix\n",
    "import matplotlib.pyplot as plt"
   ]
  },
  {
   "cell_type": "markdown",
   "metadata": {},
   "source": [
    "_Setting up and reading the database from the csv file._"
   ]
  },
  {
   "cell_type": "code",
   "execution_count": 2,
   "metadata": {},
   "outputs": [
    {
     "data": {
      "text/html": [
       "<div>\n",
       "<style scoped>\n",
       "    .dataframe tbody tr th:only-of-type {\n",
       "        vertical-align: middle;\n",
       "    }\n",
       "\n",
       "    .dataframe tbody tr th {\n",
       "        vertical-align: top;\n",
       "    }\n",
       "\n",
       "    .dataframe thead th {\n",
       "        text-align: right;\n",
       "    }\n",
       "</style>\n",
       "<table border=\"1\" class=\"dataframe\">\n",
       "  <thead>\n",
       "    <tr style=\"text-align: right;\">\n",
       "      <th></th>\n",
       "      <th>0</th>\n",
       "      <th>1</th>\n",
       "      <th>2</th>\n",
       "      <th>3</th>\n",
       "    </tr>\n",
       "  </thead>\n",
       "  <tbody>\n",
       "    <tr>\n",
       "      <th>0</th>\n",
       "      <td>30</td>\n",
       "      <td>64</td>\n",
       "      <td>1</td>\n",
       "      <td>1</td>\n",
       "    </tr>\n",
       "    <tr>\n",
       "      <th>1</th>\n",
       "      <td>30</td>\n",
       "      <td>62</td>\n",
       "      <td>3</td>\n",
       "      <td>1</td>\n",
       "    </tr>\n",
       "    <tr>\n",
       "      <th>2</th>\n",
       "      <td>30</td>\n",
       "      <td>65</td>\n",
       "      <td>0</td>\n",
       "      <td>1</td>\n",
       "    </tr>\n",
       "    <tr>\n",
       "      <th>3</th>\n",
       "      <td>31</td>\n",
       "      <td>59</td>\n",
       "      <td>2</td>\n",
       "      <td>1</td>\n",
       "    </tr>\n",
       "    <tr>\n",
       "      <th>4</th>\n",
       "      <td>31</td>\n",
       "      <td>65</td>\n",
       "      <td>4</td>\n",
       "      <td>1</td>\n",
       "    </tr>\n",
       "  </tbody>\n",
       "</table>\n",
       "</div>"
      ],
      "text/plain": [
       "    0   1  2  3\n",
       "0  30  64  1  1\n",
       "1  30  62  3  1\n",
       "2  30  65  0  1\n",
       "3  31  59  2  1\n",
       "4  31  65  4  1"
      ]
     },
     "execution_count": 2,
     "metadata": {},
     "output_type": "execute_result"
    }
   ],
   "source": [
    "#Use header=None to avoid the first row being used as column headers\n",
    "df = pd.read_csv(\"haberman.csv\",header=None)\n",
    "df.head()"
   ]
  },
  {
   "cell_type": "markdown",
   "metadata": {},
   "source": [
    "_We can add textual column headers for readability_"
   ]
  },
  {
   "cell_type": "code",
   "execution_count": 3,
   "metadata": {},
   "outputs": [
    {
     "data": {
      "text/html": [
       "<div>\n",
       "<style scoped>\n",
       "    .dataframe tbody tr th:only-of-type {\n",
       "        vertical-align: middle;\n",
       "    }\n",
       "\n",
       "    .dataframe tbody tr th {\n",
       "        vertical-align: top;\n",
       "    }\n",
       "\n",
       "    .dataframe thead th {\n",
       "        text-align: right;\n",
       "    }\n",
       "</style>\n",
       "<table border=\"1\" class=\"dataframe\">\n",
       "  <thead>\n",
       "    <tr style=\"text-align: right;\">\n",
       "      <th></th>\n",
       "      <th>age</th>\n",
       "      <th>operationYear</th>\n",
       "      <th>positiveAuxNodes</th>\n",
       "      <th>survivalStatus</th>\n",
       "    </tr>\n",
       "  </thead>\n",
       "  <tbody>\n",
       "    <tr>\n",
       "      <th>0</th>\n",
       "      <td>30</td>\n",
       "      <td>64</td>\n",
       "      <td>1</td>\n",
       "      <td>1</td>\n",
       "    </tr>\n",
       "    <tr>\n",
       "      <th>1</th>\n",
       "      <td>30</td>\n",
       "      <td>62</td>\n",
       "      <td>3</td>\n",
       "      <td>1</td>\n",
       "    </tr>\n",
       "    <tr>\n",
       "      <th>2</th>\n",
       "      <td>30</td>\n",
       "      <td>65</td>\n",
       "      <td>0</td>\n",
       "      <td>1</td>\n",
       "    </tr>\n",
       "    <tr>\n",
       "      <th>3</th>\n",
       "      <td>31</td>\n",
       "      <td>59</td>\n",
       "      <td>2</td>\n",
       "      <td>1</td>\n",
       "    </tr>\n",
       "    <tr>\n",
       "      <th>4</th>\n",
       "      <td>31</td>\n",
       "      <td>65</td>\n",
       "      <td>4</td>\n",
       "      <td>1</td>\n",
       "    </tr>\n",
       "  </tbody>\n",
       "</table>\n",
       "</div>"
      ],
      "text/plain": [
       "   age  operationYear  positiveAuxNodes  survivalStatus\n",
       "0   30             64                 1               1\n",
       "1   30             62                 3               1\n",
       "2   30             65                 0               1\n",
       "3   31             59                 2               1\n",
       "4   31             65                 4               1"
      ]
     },
     "execution_count": 3,
     "metadata": {},
     "output_type": "execute_result"
    }
   ],
   "source": [
    "df.columns = ['age','operationYear','positiveAuxNodes','survivalStatus']\n",
    "df.head()"
   ]
  },
  {
   "cell_type": "code",
   "execution_count": 4,
   "metadata": {},
   "outputs": [
    {
     "data": {
      "text/html": [
       "<div>\n",
       "<style scoped>\n",
       "    .dataframe tbody tr th:only-of-type {\n",
       "        vertical-align: middle;\n",
       "    }\n",
       "\n",
       "    .dataframe tbody tr th {\n",
       "        vertical-align: top;\n",
       "    }\n",
       "\n",
       "    .dataframe thead th {\n",
       "        text-align: right;\n",
       "    }\n",
       "</style>\n",
       "<table border=\"1\" class=\"dataframe\">\n",
       "  <thead>\n",
       "    <tr style=\"text-align: right;\">\n",
       "      <th></th>\n",
       "      <th>age</th>\n",
       "      <th>operationYear</th>\n",
       "      <th>positiveAuxNodes</th>\n",
       "      <th>survivalStatus</th>\n",
       "    </tr>\n",
       "  </thead>\n",
       "  <tbody>\n",
       "    <tr>\n",
       "      <th>count</th>\n",
       "      <td>306.000000</td>\n",
       "      <td>306.000000</td>\n",
       "      <td>306.000000</td>\n",
       "      <td>306.000000</td>\n",
       "    </tr>\n",
       "    <tr>\n",
       "      <th>mean</th>\n",
       "      <td>52.457516</td>\n",
       "      <td>62.852941</td>\n",
       "      <td>4.026144</td>\n",
       "      <td>1.264706</td>\n",
       "    </tr>\n",
       "    <tr>\n",
       "      <th>std</th>\n",
       "      <td>10.803452</td>\n",
       "      <td>3.249405</td>\n",
       "      <td>7.189654</td>\n",
       "      <td>0.441899</td>\n",
       "    </tr>\n",
       "    <tr>\n",
       "      <th>min</th>\n",
       "      <td>30.000000</td>\n",
       "      <td>58.000000</td>\n",
       "      <td>0.000000</td>\n",
       "      <td>1.000000</td>\n",
       "    </tr>\n",
       "    <tr>\n",
       "      <th>25%</th>\n",
       "      <td>44.000000</td>\n",
       "      <td>60.000000</td>\n",
       "      <td>0.000000</td>\n",
       "      <td>1.000000</td>\n",
       "    </tr>\n",
       "    <tr>\n",
       "      <th>50%</th>\n",
       "      <td>52.000000</td>\n",
       "      <td>63.000000</td>\n",
       "      <td>1.000000</td>\n",
       "      <td>1.000000</td>\n",
       "    </tr>\n",
       "    <tr>\n",
       "      <th>75%</th>\n",
       "      <td>60.750000</td>\n",
       "      <td>65.750000</td>\n",
       "      <td>4.000000</td>\n",
       "      <td>2.000000</td>\n",
       "    </tr>\n",
       "    <tr>\n",
       "      <th>max</th>\n",
       "      <td>83.000000</td>\n",
       "      <td>69.000000</td>\n",
       "      <td>52.000000</td>\n",
       "      <td>2.000000</td>\n",
       "    </tr>\n",
       "  </tbody>\n",
       "</table>\n",
       "</div>"
      ],
      "text/plain": [
       "              age  operationYear  positiveAuxNodes  survivalStatus\n",
       "count  306.000000     306.000000        306.000000      306.000000\n",
       "mean    52.457516      62.852941          4.026144        1.264706\n",
       "std     10.803452       3.249405          7.189654        0.441899\n",
       "min     30.000000      58.000000          0.000000        1.000000\n",
       "25%     44.000000      60.000000          0.000000        1.000000\n",
       "50%     52.000000      63.000000          1.000000        1.000000\n",
       "75%     60.750000      65.750000          4.000000        2.000000\n",
       "max     83.000000      69.000000         52.000000        2.000000"
      ]
     },
     "execution_count": 4,
     "metadata": {},
     "output_type": "execute_result"
    }
   ],
   "source": [
    "df.describe() # Useful in this context due to us having so much data - we can see the range of the values in each columns..."
   ]
  },
  {
   "cell_type": "markdown",
   "metadata": {},
   "source": [
    "#### Pre-Processing the Data: Grouping the data using the Year of Operation for the train-test split criteria\n",
    "_We were asked to split the data so that there were 229 rows for the train set using the years 1958-1965, and 77 rows for the test data, using the years 1966-1969._"
   ]
  },
  {
   "cell_type": "code",
   "execution_count": 5,
   "metadata": {},
   "outputs": [
    {
     "data": {
      "text/plain": [
       "(229, 4)"
      ]
     },
     "execution_count": 5,
     "metadata": {},
     "output_type": "execute_result"
    }
   ],
   "source": [
    "# Let's get the train set - so the data that resides between 1958-1965 (229 rows)\n",
    "df_train = df.loc[(df['operationYear'] <= 65) & (df['operationYear'] >= 58)] # I chose to use split using boolean_indexing, but Pandas groupby is a good alternative\n",
    "df_train.shape"
   ]
  },
  {
   "cell_type": "code",
   "execution_count": 6,
   "metadata": {},
   "outputs": [
    {
     "data": {
      "text/plain": [
       "(77, 4)"
      ]
     },
     "execution_count": 6,
     "metadata": {},
     "output_type": "execute_result"
    }
   ],
   "source": [
    "# Let's get the test set - so the data that resides above 1965 (77 rows)\n",
    "df_test = df.loc[(df['operationYear'] <= 69) & (df['operationYear'] >= 66)] # I chose to use split using boolean_indexing, but Pandas groupby is a good alternative\n",
    "df_test.shape"
   ]
  },
  {
   "cell_type": "markdown",
   "metadata": {},
   "source": [
    "#### Creating the Train and Test datasets\n",
    "_Divide the dataset into training and testing sets, by using the data for years. 1958-1965 (229 instances) for training and 1966-1969 (77 instances) for testing. Now that we have split the data in such a way, we can do this simply:_"
   ]
  },
  {
   "cell_type": "code",
   "execution_count": 7,
   "metadata": {},
   "outputs": [],
   "source": [
    "# Our train set...\n",
    "# We will extract the independent (X) and dependent (y) variables with iloc as we have seen previously.\n",
    "X_train = df_train.iloc[:,0:3]\n",
    "y_train = df_train.iloc[:,3]\n",
    "\n",
    "# Our test set...\n",
    "# We will extract the independent and dependent variables by header name here, just to see how it is\n",
    "# done. You should pick one method and stick to it!\n",
    "X_test = df_test[['age','operationYear','positiveAuxNodes']]\n",
    "y_test = df_test['survivalStatus']"
   ]
  },
  {
   "cell_type": "markdown",
   "metadata": {},
   "source": [
    "_We have been asked to run some experiments. Let's write some helper functions to make our lives easier!_"
   ]
  },
  {
   "cell_type": "code",
   "execution_count": 8,
   "metadata": {},
   "outputs": [],
   "source": [
    "from sklearn.metrics import ConfusionMatrixDisplay\n",
    "from sklearn.preprocessing import StandardScaler\n",
    "from sklearn.metrics import accuracy_score\n",
    "from sklearn.metrics import f1_score\n",
    "\n",
    "# We are creating two helper functions, both of which will need to predict class labels.\n",
    "# Factor the code into one function rather than duplicating it.\n",
    "def predict_class_labels(classifier,X_train,y_train,X_test):\n",
    "    scaler = StandardScaler()\n",
    "    scaler.fit(X_train)\n",
    "    X_train_scaled = scaler.transform(X_train)\n",
    "    X_test_scaled = scaler.transform(X_test)\n",
    "    \n",
    "    model = classifier.fit(X_train_scaled, y_train)\n",
    "    y_pred = model.predict(X_test_scaled)\n",
    "    \n",
    "    #print(classifier.coef_)\n",
    "    \n",
    "    return y_pred\n",
    "\n",
    "#This function will display the full results (confusion matrix, classification report)\n",
    "def display_model_results_full(title,classifier,X_train,y_train,X_test,y_test):\n",
    "    print(title + '. Full results')\n",
    "\n",
    "    y_pred = predict_class_labels(classifier,X_train,y_train,X_test)\n",
    "    \n",
    "    cm = confusion_matrix(y_test, y_pred)\n",
    "    ConfusionMatrixDisplay(confusion_matrix = cm,display_labels=classifier.classes_).plot()\n",
    "    plt.show() # Add to print the confusion matrix before the next line\n",
    "    \n",
    "    print(classification_report(y_test, y_pred))\n",
    "    print('\\n')\n",
    "\n",
    "#This function will display selected scores (f1-score macro average, accuracy)\n",
    "def display_model_results_brief(title,classifier,X_train,y_train,X_test,y_test):\n",
    "    print(title + '. Brief results')\n",
    "    \n",
    "    y_pred = predict_class_labels(classifier,X_train,y_train,X_test)\n",
    "    \n",
    "    print('f1 score: {}'.format(f1_score(y_test,y_pred,average='macro')))\n",
    "    print('accuracy: {}'.format(accuracy_score(y_test,y_pred)))\n",
    "    print('\\n')"
   ]
  },
  {
   "cell_type": "markdown",
   "metadata": {},
   "source": [
    "### Task 1"
   ]
  },
  {
   "cell_type": "markdown",
   "metadata": {},
   "source": [
    "_We were asked to find a plausible number of nodes for an MLPClassifier. In task 1, we will just use trial and error. We will see a more systematic method when looking at task 3._"
   ]
  },
  {
   "cell_type": "code",
   "execution_count": 9,
   "metadata": {},
   "outputs": [
    {
     "name": "stdout",
     "output_type": "stream",
     "text": [
      "10 nodes in hidden layer. Brief results\n",
      "f1 score: 0.5064102564102564\n",
      "accuracy: 0.7402597402597403\n",
      "\n",
      "\n",
      "20 nodes in hidden layer. Brief results\n",
      "f1 score: 0.6264726264726265\n",
      "accuracy: 0.7272727272727273\n",
      "\n",
      "\n",
      "30 nodes in hidden layer. Brief results\n",
      "f1 score: 0.6163126147390505\n",
      "accuracy: 0.7532467532467533\n",
      "\n",
      "\n",
      "40 nodes in hidden layer. Brief results\n",
      "f1 score: 0.5722222222222223\n",
      "accuracy: 0.6103896103896104\n",
      "\n",
      "\n",
      "50 nodes in hidden layer. Brief results\n",
      "f1 score: 0.5298132183908046\n",
      "accuracy: 0.5584415584415584\n",
      "\n",
      "\n",
      "60 nodes in hidden layer. Brief results\n",
      "f1 score: 0.37567567567567567\n",
      "accuracy: 0.37662337662337664\n",
      "\n",
      "\n",
      "70 nodes in hidden layer. Brief results\n",
      "f1 score: 0.6394648829431437\n",
      "accuracy: 0.7272727272727273\n",
      "\n",
      "\n",
      "80 nodes in hidden layer. Brief results\n",
      "f1 score: 0.5191793041926851\n",
      "accuracy: 0.5454545454545454\n",
      "\n",
      "\n",
      "90 nodes in hidden layer. Brief results\n",
      "f1 score: 0.6285087719298246\n",
      "accuracy: 0.7142857142857143\n",
      "\n",
      "\n",
      "100 nodes in hidden layer. Brief results\n",
      "f1 score: 0.6612193588937775\n",
      "accuracy: 0.7272727272727273\n",
      "\n",
      "\n"
     ]
    }
   ],
   "source": [
    "from sklearn.neural_network import MLPClassifier\n",
    "#Let's try a range of hidden layer sizes.\n",
    "for i in range(10,101,10):\n",
    "    display_model_results_brief(\n",
    "        '{} nodes in hidden layer'.format(i),\n",
    "        MLPClassifier(hidden_layer_sizes=(i),max_iter=1000,random_state=42),\n",
    "        X_train,y_train,X_test,y_test)"
   ]
  },
  {
   "cell_type": "code",
   "execution_count": 10,
   "metadata": {},
   "outputs": [
    {
     "name": "stdout",
     "output_type": "stream",
     "text": [
      "21 nodes in hidden layer. Brief results\n",
      "f1 score: 0.6055327868852459\n",
      "accuracy: 0.7402597402597403\n",
      "\n",
      "\n",
      "22 nodes in hidden layer. Brief results\n",
      "f1 score: 0.5372596153846154\n",
      "accuracy: 0.7402597402597403\n",
      "\n",
      "\n",
      "23 nodes in hidden layer. Brief results\n",
      "f1 score: 0.5372596153846154\n",
      "accuracy: 0.7402597402597403\n",
      "\n",
      "\n",
      "24 nodes in hidden layer. Brief results\n",
      "f1 score: 0.5964137931034483\n",
      "accuracy: 0.7532467532467533\n",
      "\n",
      "\n",
      "25 nodes in hidden layer. Brief results\n",
      "f1 score: 0.5860215053763441\n",
      "accuracy: 0.7402597402597403\n",
      "\n",
      "\n",
      "26 nodes in hidden layer. Brief results\n",
      "f1 score: 0.6051282051282052\n",
      "accuracy: 0.7012987012987013\n",
      "\n",
      "\n",
      "27 nodes in hidden layer. Brief results\n",
      "f1 score: 0.6487394957983194\n",
      "accuracy: 0.7532467532467533\n",
      "\n",
      "\n",
      "28 nodes in hidden layer. Brief results\n",
      "f1 score: 0.5722222222222223\n",
      "accuracy: 0.6103896103896104\n",
      "\n",
      "\n",
      "29 nodes in hidden layer. Brief results\n",
      "f1 score: 0.42065663474692205\n",
      "accuracy: 0.42857142857142855\n",
      "\n",
      "\n",
      "30 nodes in hidden layer. Brief results\n",
      "f1 score: 0.6163126147390505\n",
      "accuracy: 0.7532467532467533\n",
      "\n",
      "\n",
      "31 nodes in hidden layer. Brief results\n",
      "f1 score: 0.6117647058823529\n",
      "accuracy: 0.7272727272727273\n",
      "\n",
      "\n",
      "32 nodes in hidden layer. Brief results\n",
      "f1 score: 0.6506352087114338\n",
      "accuracy: 0.7402597402597403\n",
      "\n",
      "\n",
      "33 nodes in hidden layer. Brief results\n",
      "f1 score: 0.6225490196078431\n",
      "accuracy: 0.7402597402597403\n",
      "\n",
      "\n",
      "34 nodes in hidden layer. Brief results\n",
      "f1 score: 0.6374764595103578\n",
      "accuracy: 0.7402597402597403\n",
      "\n",
      "\n",
      "35 nodes in hidden layer. Brief results\n",
      "f1 score: 0.6285087719298246\n",
      "accuracy: 0.7142857142857143\n",
      "\n",
      "\n",
      "36 nodes in hidden layer. Brief results\n",
      "f1 score: 0.6285087719298246\n",
      "accuracy: 0.7142857142857143\n",
      "\n",
      "\n",
      "37 nodes in hidden layer. Brief results\n",
      "f1 score: 0.5644796380090498\n",
      "accuracy: 0.6103896103896104\n",
      "\n",
      "\n",
      "38 nodes in hidden layer. Brief results\n",
      "f1 score: 0.5298132183908046\n",
      "accuracy: 0.5584415584415584\n",
      "\n",
      "\n",
      "39 nodes in hidden layer. Brief results\n",
      "f1 score: 0.6042261564820103\n",
      "accuracy: 0.6493506493506493\n",
      "\n",
      "\n"
     ]
    }
   ],
   "source": [
    "#We saw f1-score peaking at around 30 hidden nodes. Let's look around that value more specifically.\n",
    "for i in range(21,40):\n",
    "    display_model_results_brief(\n",
    "        '{} nodes in hidden layer'.format(i),\n",
    "        MLPClassifier(hidden_layer_sizes=(i),max_iter=1000,random_state=42),\n",
    "        X_train,y_train,X_test,y_test)"
   ]
  },
  {
   "cell_type": "code",
   "execution_count": 11,
   "metadata": {},
   "outputs": [
    {
     "name": "stdout",
     "output_type": "stream",
     "text": [
      "34 nodes in hidden layer. Full results\n"
     ]
    },
    {
     "data": {
      "image/png": "[encoded data removed]",
      "text/plain": [
       "<Figure size 432x288 with 2 Axes>"
      ]
     },
     "metadata": {
      "needs_background": "light"
     },
     "output_type": "display_data"
    },
    {
     "name": "stdout",
     "output_type": "stream",
     "text": [
      "              precision    recall  f1-score   support\n",
      "\n",
      "           1       0.86      0.80      0.83        60\n",
      "           2       0.43      0.53      0.47        17\n",
      "\n",
      "    accuracy                           0.74        77\n",
      "   macro avg       0.64      0.66      0.65        77\n",
      "weighted avg       0.76      0.74      0.75        77\n",
      "\n",
      "\n",
      "\n"
     ]
    }
   ],
   "source": [
    "#Best score observed with 32 nodes in the hidden layer. Let's look at the result in more detail.\n",
    "display_model_results_full(\n",
    "    '34 nodes in hidden layer',\n",
    "    MLPClassifier(hidden_layer_sizes=(32),max_iter=1000,random_state=42),\n",
    "    X_train,y_train,X_test,y_test)"
   ]
  },
  {
   "cell_type": "code",
   "execution_count": 12,
   "metadata": {},
   "outputs": [
    {
     "name": "stdout",
     "output_type": "stream",
     "text": [
      "34 nodes in hidden layer. Full results\n"
     ]
    },
    {
     "data": {
      "image/png": "[encoded data removed]",
      "text/plain": [
       "<Figure size 432x288 with 2 Axes>"
      ]
     },
     "metadata": {
      "needs_background": "light"
     },
     "output_type": "display_data"
    },
    {
     "name": "stdout",
     "output_type": "stream",
     "text": [
      "              precision    recall  f1-score   support\n",
      "\n",
      "           1       0.89      0.70      0.79        60\n",
      "           2       0.40      0.71      0.51        17\n",
      "\n",
      "    accuracy                           0.70        77\n",
      "   macro avg       0.65      0.70      0.65        77\n",
      "weighted avg       0.78      0.70      0.72        77\n",
      "\n",
      "\n",
      "\n"
     ]
    }
   ],
   "source": [
    "#As an aside, what happens if we change the random state?\n",
    "display_model_results_full(\n",
    "    '34 nodes in hidden layer',\n",
    "    MLPClassifier(hidden_layer_sizes=(32),max_iter=1000,random_state=43),\n",
    "    X_train,y_train,X_test,y_test)"
   ]
  },
  {
   "cell_type": "markdown",
   "metadata": {},
   "source": [
    "### Task 3"
   ]
  },
  {
   "cell_type": "code",
   "execution_count": 13,
   "metadata": {},
   "outputs": [],
   "source": [
    "X = df.iloc[:,0:3]\n",
    "y = df.iloc[:,3]\n",
    "\n",
    "import numpy as np\n",
    "from sklearn.model_selection import cross_val_score\n",
    "\n",
    "# This function returns average accuracy after k-fold cross validation.\n",
    "def calculate_kfold_model_results(classifier,n_splits,X,y):\n",
    "    cv_scores = cross_val_score(\n",
    "        estimator=classifier,\n",
    "        X=X,\n",
    "        y=y,\n",
    "        scoring='accuracy',\n",
    "        cv=n_splits\n",
    "    )\n",
    "    return np.mean(cv_scores)"
   ]
  },
  {
   "cell_type": "markdown",
   "metadata": {},
   "source": [
    "_Our textual results were sometimes hard to interpret. It would be easier to follow if our results were in a graph. Let's plot a graph for this example._ "
   ]
  },
  {
   "cell_type": "code",
   "execution_count": 14,
   "metadata": {},
   "outputs": [
    {
     "data": {
      "text/plain": [
       "Text(0, 0.5, 'accuracy')"
      ]
     },
     "execution_count": 14,
     "metadata": {},
     "output_type": "execute_result"
    },
    {
     "data": {
      "image/png": "[encoded data removed]",
      "text/plain": [
       "<Figure size 432x288 with 1 Axes>"
      ]
     },
     "metadata": {
      "needs_background": "light"
     },
     "output_type": "display_data"
    }
   ],
   "source": [
    "import matplotlib.pyplot as plt\n",
    "\n",
    "#accuracy = []\n",
    "#for i in range(10,101,10):\n",
    "#    acc = calculate_kfold_model_results(\n",
    "#        MLPClassifier(hidden_layer_sizes=(i),max_iter=1000,random_state=42),\n",
    "#        5,X,y)\n",
    "#    accuracy.append(acc)\n",
    "\n",
    "# More pythonic way to the same as above\n",
    "accuracy = [\n",
    "    calculate_kfold_model_results(MLPClassifier(hidden_layer_sizes=(i),max_iter=1000,random_state=42),5,X,y)\n",
    "    for i in range(10,101,10)\n",
    "]\n",
    "\n",
    "plt.scatter(range(10,101,10), accuracy,color='red')\n",
    "plt.xlabel('Hidden Layer Size')\n",
    "plt.ylabel('accuracy')"
   ]
  },
  {
   "cell_type": "markdown",
   "metadata": {},
   "source": [
    "#### Task 3 Extension: Pipelines\n",
    "_In task 1, we were scaling the data before calculating its performance. When using cross-val score, there is no obvious place to scale the data, which can be very important depending on your model. We can scale the data within cross validation by defining a *pipeline*. This is a more advanced concept and not core to the module, but you may find it useful._"
   ]
  },
  {
   "cell_type": "code",
   "execution_count": 15,
   "metadata": {},
   "outputs": [],
   "source": [
    "from sklearn.pipeline import Pipeline\n",
    "\n",
    "# This function returns average accuracy after k-fold cross validation.\n",
    "def calculate_kfold_model_scaled_results(classifier,n_splits,X,y):\n",
    "    scaler = StandardScaler()\n",
    "    pipeline = Pipeline([('transformer', scaler),('estimator',classifier)])\n",
    "\n",
    "    cv_scores = cross_val_score(\n",
    "        pipeline,\n",
    "        X=X,\n",
    "        y=y,\n",
    "        scoring='accuracy',\n",
    "        cv=n_splits\n",
    "    )\n",
    "    return np.mean(cv_scores)"
   ]
  },
  {
   "cell_type": "code",
   "execution_count": 16,
   "metadata": {},
   "outputs": [
    {
     "data": {
      "text/plain": [
       "Text(0, 0.5, 'accuracy')"
      ]
     },
     "execution_count": 16,
     "metadata": {},
     "output_type": "execute_result"
    },
    {
     "data": {
      "image/png": "[encoded data removed]",
      "text/plain": [
       "<Figure size 432x288 with 1 Axes>"
      ]
     },
     "metadata": {
      "needs_background": "light"
     },
     "output_type": "display_data"
    }
   ],
   "source": [
    "accuracy = [\n",
    "    calculate_kfold_model_scaled_results(MLPClassifier(hidden_layer_sizes=(i),max_iter=1000,random_state=42),5,X,y)\n",
    "    for i in range(10,101,10)\n",
    "]\n",
    "\n",
    "plt.scatter(range(10,101,10), accuracy,color='red')\n",
    "plt.xlabel('Hidden Layer Size')\n",
    "plt.ylabel('accuracy')"
   ]
  },
  {
   "cell_type": "code",
   "execution_count": null,
   "metadata": {},
   "outputs": [],
   "source": []
  }
 ],
 "metadata": {
  "kernelspec": {
   "display_name": "Python 3 (ipykernel)",
   "language": "python",
   "name": "python3"
  },
  "language_info": {
   "codemirror_mode": {
    "name": "ipython",
    "version": 3
   },
   "file_extension": ".py",
   "mimetype": "text/x-python",
   "name": "python",
   "nbconvert_exporter": "python",
   "pygments_lexer": "ipython3",
   "version": "3.9.16"
  }
 },
 "nbformat": 4,
 "nbformat_minor": 4
}
